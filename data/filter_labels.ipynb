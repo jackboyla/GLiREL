{
 "cells": [
  {
   "cell_type": "code",
   "execution_count": 1,
   "metadata": {},
   "outputs": [
    {
     "name": "stdout",
     "output_type": "stream",
     "text": [
      "\n",
      "WikiZSL: {'chief executive officer', 'executive producer', 'sport', 'religion', 'publisher', 'native language', 'cause of death', 'opposite of', 'part of', 'place of burial', 'conflict', 'use', 'separated from', 'child', 'composer', 'editor', 'diocese', 'participant of', 'conferred by', 'occupant', 'replaces', 'date of birth', 'record label', 'league', 'named after', 'drafted by', 'employer', 'license', 'official language', 'educated at', 'military branch', 'currency', 'operating system', 'production company', 'genre', 'parent club', 'instrumentation', 'spouse', 'head of government', 'location', 'candidate', 'depicts', 'producer', 'filming location', 'voice actor', 'relative', 'mother', 'subsidiary', 'allegiance', 'position held', 'shares border with', 'appointed by', 'sibling', 'designed by', 'maintained by', 'approved by', 'published in', 'occupation', 'choreographer', 'used by', 'country', 'manufacturer', 'influenced by', 'crosses', 'highest point', 'movement', 'author', 'place of birth', 'country of citizenship', 'architectural style', 'headquarters location', 'represents', 'nominated for', 'winner', 'work location', 'director of photography', 'illustrator', 'field of work', 'platform', 'owned by', 'director', 'affiliation', 'librettist', 'organizer', 'place of death', 'developer', 'signatory', 'country of origin', 'inception', 'has quality', 'screenwriter', 'legislative body', 'student', 'main subject', 'family', 'cathedral', 'dedicated to', 'family name', 'creator', 'time period', 'distributor', 'residence', 'worshipped by', 'collection', 'follows', 'instrument', 'cast member', 'inspired by', 'subclass of', 'killed by', 'official residence', 'father', 'instance of', 'based on', 'presenter', 'diplomatic relation', 'doctoral advisor', 'publication date', 'given name', 'member of', 'partner', 'home venue', 'different from', 'terminus', 'significant event', 'manifestation of', 'industry', 'studies', 'performer', 'architect', 'facet of', 'continent', 'color', 'date of death', 'head of state', 'military rank', 'programming language', 'none', 'head coach', 'place of publication', 'capital', 'founded by'}\n",
      "\n",
      "FewRel: {'headquarters location', 'distributor', 'residence', 'nominated for', 'winner', 'religion', 'sport', 'instrument', 'work location', 'follows', 'operator', 'publisher', 'military branch', 'operating system', 'field of work', 'platform', 'owned by', 'director', 'genre', 'father', 'instance of', 'part of', 'spouse', 'head of government', 'location', 'child', 'developer', 'composer', 'has part', 'member of', 'country of origin', 'mother', 'followed by', 'subsidiary', 'screenwriter', 'main subject', 'participant of', 'performer', 'position held', 'architect', 'sibling', 'occupant', 'record label', 'occupation', 'mountain range', 'country', 'military rank', 'manufacturer', 'crosses', 'league', 'movement', 'participant', 'country of citizenship'}\n",
      "\n",
      "Re-DocRED: {'headquarters location', 'residence', 'religion', 'follows', 'official language', 'cast member', 'educated at', 'work location', 'operator', 'capital of', 'military branch', 'publisher', 'platform', 'self', 'genre', 'director', 'production company', 'owned by', 'subclass of', 'father', 'instance of', 'start time', 'replaced by', 'part of', 'conflict', 'separated from', 'spouse', 'head of government', 'location', 'child', 'place of death', 'chairperson', 'developer', 'publication date', 'composer', 'producer', 'has part', 'member of', 'country of origin', 'inception', 'followed by', 'mother', 'subsidiary', 'end time', 'parent organization', 'unemployment rate', 'screenwriter', 'legislative body', 'point in time', 'performer', 'participant of', 'position held', 'sibling', 'date of birth', 'replaces', 'record label', 'continent', 'date of death', 'head of state', 'country', 'manufacturer', 'influenced by', 'league', 'author', 'participant', 'creator', 'place of birth', 'employer', 'country of citizenship', 'capital', 'founded by'}\n"
     ]
    }
   ],
   "source": [
    "import json\n",
    "with open('zero_rel_type_counts.json', 'r') as f:\n",
    "    zero_rel_type_counts = json.load(f)\n",
    "    zero_rel_types = set(l.lower() for l in zero_rel_type_counts.keys())\n",
    "\n",
    "\n",
    "# WikiZSL\n",
    "with open('wiki_zsl_all.jsonl', 'r') as f:\n",
    "    wiki_zsl_all = [json.loads(line) for line in f]\n",
    "\n",
    "wiki_zsl_rel_type_counts = {}\n",
    "for item in wiki_zsl_all:\n",
    "    for relation in item['relations']:\n",
    "        relation_text = relation['relation_text'].lower()\n",
    "        wiki_zsl_rel_type_counts[relation_text] = wiki_zsl_rel_type_counts.get(relation_text, 0) + 1\n",
    "\n",
    "wiki_zsl_intersection_labels = zero_rel_types.intersection(wiki_zsl_rel_type_counts.keys())\n",
    "print(f\"\\nWikiZSL: {wiki_zsl_intersection_labels}\")\n",
    "\n",
    "\n",
    "# FewRel\n",
    "with open('few_rel_all.jsonl', 'r') as f:\n",
    "    fewrel_all = [json.loads(line) for line in f]\n",
    "\n",
    "fewrel_type_counts = {}\n",
    "for item in fewrel_all:\n",
    "    for relation in item['relations']:\n",
    "        relation_text = relation['relation_text'].lower()\n",
    "        fewrel_type_counts[relation_text] = fewrel_type_counts.get(relation_text, 0) + 1\n",
    "\n",
    "fewrel_intersection_labels = zero_rel_types.intersection(fewrel_type_counts.keys())\n",
    "print(f\"\\nFewRel: {fewrel_intersection_labels}\")\n",
    "\n",
    "\n",
    "# Re-DocRED\n",
    "redocred_all = []\n",
    "for file in ['redocred_train.jsonl', 'redocred_dev.jsonl', 'redocred_test.jsonl']:\n",
    "    with open(file, 'r') as f:\n",
    "        redocred_all.extend([json.loads(line) for line in f])\n",
    "\n",
    "redocred_type_counts = {}\n",
    "for item in redocred_all:\n",
    "    for relation in item['relations']:\n",
    "        relation_text = relation['relation_text'].lower()\n",
    "        redocred_type_counts[relation_text] = redocred_type_counts.get(relation_text, 0) + 1\n",
    "\n",
    "redocred_intersection_labels = zero_rel_types.intersection(redocred_type_counts.keys())\n",
    "print(f\"\\nRe-DocRED: {redocred_intersection_labels}\")\n"
   ]
  },
  {
   "cell_type": "code",
   "execution_count": 2,
   "metadata": {},
   "outputs": [
    {
     "name": "stderr",
     "output_type": "stream",
     "text": [
      "63493it [03:24, 311.10it/s]\n"
     ]
    },
    {
     "name": "stdout",
     "output_type": "stream",
     "text": [
      "To not mingle with benchmark datasets, we skipped 70 items and 8351206 relations\n"
     ]
    },
    {
     "name": "stderr",
     "output_type": "stream",
     "text": [
      "63493it [03:26, 307.35it/s]\n"
     ]
    },
    {
     "name": "stdout",
     "output_type": "stream",
     "text": [
      "To not mingle with benchmark datasets, we skipped 21 items and 7921100 relations\n"
     ]
    },
    {
     "name": "stderr",
     "output_type": "stream",
     "text": [
      "63493it [03:25, 308.77it/s]"
     ]
    },
    {
     "name": "stdout",
     "output_type": "stream",
     "text": [
      "To not mingle with benchmark datasets, we skipped 23 items and 8117430 relations\n"
     ]
    },
    {
     "name": "stderr",
     "output_type": "stream",
     "text": [
      "\n"
     ]
    }
   ],
   "source": [
    "from tqdm import tqdm\n",
    "\n",
    "\n",
    "def remove_overlapping_relations(original_file_path, final_file_path, intersection_labels):\n",
    "\n",
    "    intersection_labels.add('no_relation')\n",
    "    intersection_labels.add('no relation')\n",
    "\n",
    "    skipped_items = 0\n",
    "    skipped_relations = 0\n",
    "    with open(original_file_path, 'r') as fr, open(final_file_path, 'w') as fw:\n",
    "        for line in tqdm(fr):\n",
    "            item = json.loads(line)\n",
    "            relations = item['relations']\n",
    "            new_relations = []\n",
    "            for relation in relations:\n",
    "                rel_text = relation['relation_text']\n",
    "                if rel_text not in intersection_labels:\n",
    "                    new_relations.append(relation)\n",
    "                else:\n",
    "                    skipped_relations += 1\n",
    "            \n",
    "            item['relations'] = new_relations\n",
    "\n",
    "            # Write the updated item to the new file\n",
    "            if len(new_relations) > 0:\n",
    "                fw.write(json.dumps(item) + '\\n')\n",
    "            else:\n",
    "                skipped_items += 1\n",
    "\n",
    "    print(f'To not mingle with benchmark datasets, we skipped {skipped_items} items and {skipped_relations} relations')\n",
    "\n",
    "\n",
    "zero_rel_path = 'zero_rel_all.jsonl'\n",
    "output_paths = ['zero_rel_all_diff_wiki_zsl.jsonl', 'zero_rel_all_diff_few_rel.jsonl', 'zero_rel_all_diff_redocred.jsonl']\n",
    "intersection_labels_list = [wiki_zsl_intersection_labels, fewrel_intersection_labels, redocred_intersection_labels]\n",
    "\n",
    "\n",
    "for output_path, intersection_labels in zip(output_paths, intersection_labels_list):\n",
    "    remove_overlapping_relations(original_file_path=zero_rel_path, final_file_path=output_path, intersection_labels=intersection_labels)"
   ]
  },
  {
   "cell_type": "code",
   "execution_count": 3,
   "metadata": {},
   "outputs": [
    {
     "name": "stderr",
     "output_type": "stream",
     "text": [
      "204it [00:00, 977.37it/s] "
     ]
    },
    {
     "name": "stderr",
     "output_type": "stream",
     "text": [
      "63422it [01:27, 990.44it/s] "
     ]
    },
    {
     "name": "stdout",
     "output_type": "stream",
     "text": [
      "set()\n"
     ]
    },
    {
     "name": "stderr",
     "output_type": "stream",
     "text": [
      "63423it [01:38, 990.44it/s]"
     ]
    }
   ],
   "source": [
    "import json\n",
    "import tqdm\n",
    "\n",
    "pbar = tqdm.tqdm()\n",
    "with open('zero_rel_all_diff_wiki_zsl.jsonl', 'r') as f:\n",
    "    zero_rel_wiki_diff = (json.loads(line) for line in f)\n",
    "\n",
    "    zero_rel_type_counts = {}\n",
    "    for item in zero_rel_wiki_diff:\n",
    "        for relation in item['relations']:\n",
    "            relation_text = relation['relation_text']\n",
    "            zero_rel_type_counts[relation_text] = zero_rel_type_counts.get(relation_text, 0) + 1\n",
    "        pbar.update(1)\n",
    "\n",
    "with open('wiki_zsl_all.jsonl', 'r') as f:\n",
    "    wiki_zsl_all = [json.loads(line) for line in f]\n",
    "\n",
    "wiki_zsl_rel_type_counts = {}\n",
    "for item in wiki_zsl_all:\n",
    "    for relation in item['relations']:\n",
    "        relation_text = relation['relation_text']\n",
    "        wiki_zsl_rel_type_counts[relation_text] = wiki_zsl_rel_type_counts.get(relation_text, 0) + 1\n",
    "\n",
    "intersection_labels = set(zero_rel_type_counts.keys()).intersection(wiki_zsl_rel_type_counts.keys())\n",
    "print(intersection_labels)"
   ]
  },
  {
   "cell_type": "code",
   "execution_count": null,
   "metadata": {},
   "outputs": [],
   "source": []
  }
 ],
 "metadata": {
  "kernelspec": {
   "display_name": "glirel",
   "language": "python",
   "name": "python3"
  },
  "language_info": {
   "codemirror_mode": {
    "name": "ipython",
    "version": 3
   },
   "file_extension": ".py",
   "mimetype": "text/x-python",
   "name": "python",
   "nbconvert_exporter": "python",
   "pygments_lexer": "ipython3",
   "version": "3.10.14"
  }
 },
 "nbformat": 4,
 "nbformat_minor": 2
}
