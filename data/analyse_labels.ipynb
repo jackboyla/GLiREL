{
 "cells": [
  {
   "cell_type": "code",
   "execution_count": 1,
   "metadata": {},
   "outputs": [
    {
     "name": "stdout",
     "output_type": "stream",
     "text": [
      "{'given name', 'position held', 'filming location', 'librettist', 'performer', 'designed by', 'occupant', 'subsidiary', 'religion', 'place of burial', 'diplomatic relation', 'continent', 'collection', 'place of death', 'inception', 'founded by', 'organizer', 'place of publication', 'published in', 'editor', 'place of birth', 'instrument', 'composer', 'instance of', 'has quality', 'nominated for', 'official language', 'head coach', 'approved by', 'participant of', 'architectural style', 'main subject', 'military rank', 'author', 'currency', 'doctoral advisor', 'country of origin', 'replaces', 'based on', 'worshipped by', 'highest point', 'home venue', 'publication date', 'depicts', 'color', 'conflict', 'subclass of', 'affiliation', 'terminus', 'headquarters location', 'diocese', 'conferred by', 'member of', 'executive producer', 'architect', 'country of citizenship', 'crosses', 'represents', 'time period', 'significant event', 'screenwriter', 'allegiance', 'sibling', 'inspired by', 'family name', 'platform', 'presenter', 'separated from', 'illustrator', 'maintained by', 'educated at', 'date of death', 'owned by', 'follows', 'country', 'movement', 'date of birth', 'use', 'spouse', 'influenced by', 'family', 'mother', 'field of work', 'winner', 'producer', 'shares border with', 'used by', 'work location', 'license', 'cast member', 'opposite of', 'residence', 'relative', 'director', 'killed by', 'student', 'native language', 'voice actor', 'chief executive officer', 'facet of', 'head of state', 'manifestation of', 'cathedral', 'candidate', 'head of government', 'production company', 'instrumentation', 'sport', 'part of', 'dedicated to', 'partner', 'operating system', 'publisher', 'official residence', 'league', 'legislative body', 'record label', 'genre', 'manufacturer', 'capital', 'location', 'parent club', 'developer', 'occupation', 'programming language', 'military branch', 'employer', 'studies', 'appointed by', 'distributor', 'named after', 'father', 'signatory', 'cause of death', 'child', 'industry', 'director of photography', 'drafted by', 'creator', 'different from', 'choreographer'}\n"
     ]
    }
   ],
   "source": [
    "import json\n",
    "with open('zero_rel_type_counts.json', 'r') as f:\n",
    "    zero_rel_type_counts = json.load(f)\n",
    "\n",
    "with open('wiki_zsl_all.jsonl', 'r') as f:\n",
    "    wiki_zsl_all = [json.loads(line) for line in f]\n",
    "\n",
    "wiki_zsl_rel_type_counts = {}\n",
    "for item in wiki_zsl_all:\n",
    "    for relation in item['relations']:\n",
    "        relation_text = relation['relation_text']\n",
    "        wiki_zsl_rel_type_counts[relation_text] = wiki_zsl_rel_type_counts.get(relation_text, 0) + 1\n",
    "\n",
    "intersection_labels = set(zero_rel_type_counts.keys()).intersection(wiki_zsl_rel_type_counts.keys())\n",
    "print(intersection_labels)"
   ]
  },
  {
   "cell_type": "code",
   "execution_count": 3,
   "metadata": {},
   "outputs": [
    {
     "name": "stderr",
     "output_type": "stream",
     "text": [
      "0it [00:00, ?it/s]"
     ]
    },
    {
     "name": "stderr",
     "output_type": "stream",
     "text": [
      "63493it [05:41, 185.67it/s]\n"
     ]
    }
   ],
   "source": [
    "len(intersection_labels)\n",
    "from tqdm import tqdm\n",
    "\n",
    "save_path = 'zero_rel_all.jsonl'\n",
    "final_save_path = 'zero_rel_all_diff_wiki_zsl.jsonl'\n",
    "skipped_items = 0\n",
    "skipped_relations = 0\n",
    "with open(save_path, 'r') as fr, open(final_save_path, 'w') as fw:\n",
    "    for line in tqdm(fr):\n",
    "        item = json.loads(line)\n",
    "        relations = item['relations']\n",
    "        new_relations = []\n",
    "        for relation in relations:\n",
    "            rel_text = relation['relation_text']\n",
    "            if rel_text not in intersection_labels:\n",
    "                new_relations.append(relation)\n",
    "            else:\n",
    "                skipped_relations += 1\n",
    "        \n",
    "        item['relations'] = new_relations\n",
    "\n",
    "        # Write the updated item to the new file\n",
    "        if len(new_relations) > 0:\n",
    "            fw.write(json.dumps(item) + '\\n')\n",
    "        else:\n",
    "            skipped_items += 1\n",
    "\n",
    "print(f'To not mingle with WikiZSL, we skipped {skipped_items} items and {skipped_relations} relations')"
   ]
  },
  {
   "cell_type": "code",
   "execution_count": 1,
   "metadata": {},
   "outputs": [
    {
     "name": "stderr",
     "output_type": "stream",
     "text": [
      "63470it [02:33, 427.95it/s]"
     ]
    },
    {
     "name": "stdout",
     "output_type": "stream",
     "text": [
      "set()\n"
     ]
    },
    {
     "name": "stderr",
     "output_type": "stream",
     "text": [
      "63491it [02:50, 427.95it/s]"
     ]
    }
   ],
   "source": [
    "import json\n",
    "import tqdm\n",
    "\n",
    "pbar = tqdm.tqdm()\n",
    "with open('zero_rel_all_diff_wiki_zsl.jsonl', 'r') as f:\n",
    "    zero_rel_wiki_diff = (json.loads(line) for line in f)\n",
    "\n",
    "    zero_rel_type_counts = {}\n",
    "    for item in zero_rel_wiki_diff:\n",
    "        for relation in item['relations']:\n",
    "            relation_text = relation['relation_text']\n",
    "            zero_rel_type_counts[relation_text] = zero_rel_type_counts.get(relation_text, 0) + 1\n",
    "        pbar.update(1)\n",
    "\n",
    "with open('wiki_zsl_all.jsonl', 'r') as f:\n",
    "    wiki_zsl_all = [json.loads(line) for line in f]\n",
    "\n",
    "wiki_zsl_rel_type_counts = {}\n",
    "for item in wiki_zsl_all:\n",
    "    for relation in item['relations']:\n",
    "        relation_text = relation['relation_text']\n",
    "        wiki_zsl_rel_type_counts[relation_text] = wiki_zsl_rel_type_counts.get(relation_text, 0) + 1\n",
    "\n",
    "intersection_labels = set(zero_rel_type_counts.keys()).intersection(wiki_zsl_rel_type_counts.keys())\n",
    "print(intersection_labels)"
   ]
  },
  {
   "cell_type": "code",
   "execution_count": null,
   "metadata": {},
   "outputs": [],
   "source": []
  }
 ],
 "metadata": {
  "kernelspec": {
   "display_name": "glirel",
   "language": "python",
   "name": "python3"
  },
  "language_info": {
   "codemirror_mode": {
    "name": "ipython",
    "version": 3
   },
   "file_extension": ".py",
   "mimetype": "text/x-python",
   "name": "python",
   "nbconvert_exporter": "python",
   "pygments_lexer": "ipython3",
   "version": "3.10.14"
  }
 },
 "nbformat": 4,
 "nbformat_minor": 2
}
