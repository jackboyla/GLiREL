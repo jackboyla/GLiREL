{
 "cells": [
  {
   "cell_type": "code",
   "execution_count": 6,
   "metadata": {},
   "outputs": [
    {
     "name": "stdout",
     "output_type": "stream",
     "text": [
      "\n",
      "WikiZSL: {'place of publication', 'place of birth', 'facet of', 'home venue', 'librettist', 'instrumentation', 'continent', 'shares border with', 'military rank', 'manifestation of', 'executive producer', 'given name', 'chief executive officer', 'country of citizenship', 'director of photography', 'subclass of', 'editor', 'headquarters location', 'highest point', 'worshipped by', 'conferred by', 'operating system', 'date of death', 'use', 'religion', 'father', 'official residence', 'instance of', 'studies', 'educated at', 'residence', 'represents', 'screenwriter', 'platform', 'family name', 'diplomatic relation', 'participant of', 'head coach', 'crosses', 'allegiance', 'author', 'illustrator', 'replaces', 'presenter', 'cathedral', 'conflict', 'signatory', 'student', 'employer', 'influenced by', 'significant event', 'mother', 'opposite of', 'genre', 'maintained by', 'head of government', 'performer', 'place of burial', 'drafted by', 'position held', 'diocese', 'candidate', 'occupation', 'based on', 'manufacturer', 'separated from', 'child', 'terminus', 'creator', 'industry', 'parent club', 'affiliation', 'partner', 'cause of death', 'choreographer', 'subsidiary', 'named after', 'used by', 'approved by', 'family', 'organizer', 'distributor', 'occupant', 'killed by', 'work location', 'official language', 'voice actor', 'composer', 'color', 'founded by', 'inspired by', 'cast member', 'designed by', 'legislative body', 'depicts', 'has quality', 'main subject', 'different from', 'publication date', 'nominated for', 'dedicated to', 'inception', 'place of death', 'location', 'sibling', 'military branch', 'publisher', 'currency', 'appointed by', 'sport', 'native language', 'license', 'league', 'capital', 'date of birth', 'member of', 'winner', 'architectural style', 'production company', 'country of origin', 'architect', 'follows', 'spouse', 'doctoral advisor', 'instrument', 'programming language', 'record label', 'director', 'movement', 'producer', 'filming location', 'owned by', 'head of state', 'time period', 'part of', 'developer', 'relative', 'country', 'published in', 'collection', 'field of work'}\n",
      "\n",
      "NYT: {'ethnicity', 'people', 'capital', 'location', 'children', 'company', 'nationality', 'religion', 'industry', 'founders', 'country', 'advisors', 'profession', 'teams', 'contains'}\n",
      "\n",
      "FewRel: {'residence', 'location', 'subsidiary', 'screenwriter', 'military branch', 'publisher', 'sibling', 'platform', 'sport', 'mountain range', 'participant of', 'league', 'distributor', 'followed by', 'crosses', 'occupant', 'military rank', 'winner', 'member of', 'participant', 'has part', 'work location', 'country of origin', 'architect', 'follows', 'mother', 'composer', 'spouse', 'country of citizenship', 'head of government', 'genre', 'instrument', 'performer', 'operator', 'record label', 'headquarters location', 'position held', 'director', 'manufacturer', 'movement', 'occupation', 'operating system', 'child', 'owned by', 'religion', 'part of', 'developer', 'father', 'main subject', 'country', 'nominated for', 'instance of', 'field of work'}\n",
      "\n",
      "Re-DocRED: {'residence', 'location', 'place of death', 'subsidiary', 'sibling', 'place of birth', 'screenwriter', 'military branch', 'end time', 'publisher', 'platform', 'participant of', 'continent', 'league', 'capital', 'followed by', 'date of birth', 'author', 'member of', 'replaces', 'conflict', 'has part', 'participant', 'employer', 'country of origin', 'work location', 'production company', 'follows', 'influenced by', 'official language', 'point in time', 'mother', 'composer', 'spouse', 'country of citizenship', 'genre', 'head of government', 'founded by', 'performer', 'cast member', 'parent organization', 'replaced by', 'start time', 'chairperson', 'operator', 'subclass of', 'capital of', 'record label', 'headquarters location', 'position held', 'director', 'manufacturer', 'legislative body', 'producer', 'child', 'separated from', 'owned by', 'head of state', 'creator', 'date of death', 'religion', 'part of', 'developer', 'father', 'publication date', 'country', 'unemployment rate', 'instance of', 'inception', 'educated at'}\n",
      "\n",
      "Intersection labels: {'place of publication', 'place of birth', 'facet of', 'home venue', 'librettist', 'contains', 'instrumentation', 'continent', 'shares border with', 'nationality', 'military rank', 'manifestation of', 'executive producer', 'given name', 'chief executive officer', 'country of citizenship', 'director of photography', 'subclass of', 'editor', 'capital of', 'headquarters location', 'highest point', 'worshipped by', 'conferred by', 'operating system', 'date of death', 'use', 'religion', 'father', 'official residence', 'instance of', 'studies', 'educated at', 'residence', 'children', 'represents', 'company', 'screenwriter', 'end time', 'platform', 'family name', 'diplomatic relation', 'participant of', 'head coach', 'crosses', 'allegiance', 'author', 'illustrator', 'replaces', 'presenter', 'cathedral', 'conflict', 'signatory', 'student', 'employer', 'influenced by', 'significant event', 'point in time', 'mother', 'opposite of', 'genre', 'maintained by', 'head of government', 'performer', 'parent organization', 'founders', 'start time', 'place of burial', 'drafted by', 'position held', 'diocese', 'candidate', 'occupation', 'based on', 'manufacturer', 'separated from', 'child', 'terminus', 'ethnicity', 'creator', 'industry', 'parent club', 'affiliation', 'partner', 'people', 'cause of death', 'choreographer', 'subsidiary', 'named after', 'used by', 'approved by', 'family', 'organizer', 'distributor', 'followed by', 'occupant', 'killed by', 'participant', 'work location', 'has part', 'official language', 'voice actor', 'composer', 'color', 'founded by', 'inspired by', 'cast member', 'chairperson', 'designed by', 'legislative body', 'depicts', 'has quality', 'main subject', 'different from', 'publication date', 'nominated for', 'dedicated to', 'inception', 'place of death', 'location', 'sibling', 'military branch', 'publisher', 'currency', 'appointed by', 'sport', 'teams', 'mountain range', 'native language', 'license', 'league', 'capital', 'date of birth', 'member of', 'winner', 'architectural style', 'production company', 'country of origin', 'architect', 'follows', 'spouse', 'doctoral advisor', 'replaced by', 'instrument', 'programming language', 'advisors', 'profession', 'operator', 'record label', 'director', 'movement', 'producer', 'filming location', 'owned by', 'head of state', 'time period', 'part of', 'developer', 'relative', 'country', 'unemployment rate', 'published in', 'collection', 'field of work'}\n",
      "\n",
      "164\n"
     ]
    }
   ],
   "source": [
    "import json\n",
    "with open('zero_rel_type_counts.json', 'r') as f:\n",
    "    zero_rel_type_counts = json.load(f)\n",
    "\n",
    "intersection_labels = set()\n",
    "\n",
    "# WikiZSL\n",
    "with open('wiki_zsl_all.jsonl', 'r') as f:\n",
    "    wiki_zsl_all = [json.loads(line) for line in f]\n",
    "\n",
    "wiki_zsl_rel_type_counts = {}\n",
    "for item in wiki_zsl_all:\n",
    "    for relation in item['relations']:\n",
    "        relation_text = relation['relation_text']\n",
    "        wiki_zsl_rel_type_counts[relation_text] = wiki_zsl_rel_type_counts.get(relation_text, 0) + 1\n",
    "\n",
    "wiki_zsl_intersection_labels = set(zero_rel_type_counts.keys()).intersection(wiki_zsl_rel_type_counts.keys())\n",
    "print(f\"\\nWikiZSL: {wiki_zsl_intersection_labels}\")\n",
    "intersection_labels.update(wiki_zsl_intersection_labels)\n",
    "\n",
    "# NYT\n",
    "with open('nyt/nyt_all.jsonl', 'r') as f:\n",
    "    nyt_all = [json.loads(line) for line in f]\n",
    "\n",
    "nyt_rel_type_counts = {}\n",
    "for item in nyt_all:\n",
    "    for relation in item['relations']:\n",
    "        relation_text = relation['relation_text']\n",
    "        nyt_rel_type_counts[relation_text] = nyt_rel_type_counts.get(relation_text, 0) + 1\n",
    "\n",
    "nyt_intersection_labels = set(zero_rel_type_counts.keys()).intersection(nyt_rel_type_counts.keys())\n",
    "print(f\"\\nNYT: {nyt_intersection_labels}\")\n",
    "intersection_labels.update(nyt_intersection_labels)\n",
    "\n",
    "\n",
    "# FewRel\n",
    "with open('few_rel_all.jsonl', 'r') as f:\n",
    "    fewrel_all = [json.loads(line) for line in f]\n",
    "\n",
    "fewrel_type_counts = {}\n",
    "for item in fewrel_all:\n",
    "    for relation in item['relations']:\n",
    "        relation_text = relation['relation_text']\n",
    "        fewrel_type_counts[relation_text] = fewrel_type_counts.get(relation_text, 0) + 1\n",
    "\n",
    "fewrel_intersection_labels = set(zero_rel_type_counts.keys()).intersection(fewrel_type_counts.keys())\n",
    "print(f\"\\nFewRel: {fewrel_intersection_labels}\")\n",
    "intersection_labels.update(fewrel_intersection_labels)\n",
    "\n",
    "\n",
    "# Re-DocRED\n",
    "redocred_all = []\n",
    "for file in ['redocred_train.jsonl', 'redocred_dev.jsonl', 'redocred_test.jsonl']:\n",
    "    with open(file, 'r') as f:\n",
    "        redocred_all.extend([json.loads(line) for line in f])\n",
    "\n",
    "redocred_type_counts = {}\n",
    "for item in redocred_all:\n",
    "    for relation in item['relations']:\n",
    "        relation_text = relation['relation_text']\n",
    "        redocred_type_counts[relation_text] = redocred_type_counts.get(relation_text, 0) + 1\n",
    "\n",
    "redocred_intersection_labels = set(zero_rel_type_counts.keys()).intersection(redocred_type_counts.keys())\n",
    "print(f\"\\nRe-DocRED: {redocred_intersection_labels}\")\n",
    "intersection_labels.update(redocred_intersection_labels)\n",
    "\n",
    "\n",
    "print(f\"\\nIntersection labels: {intersection_labels}\\n\")\n",
    "print(len(intersection_labels))"
   ]
  },
  {
   "cell_type": "code",
   "execution_count": 7,
   "metadata": {},
   "outputs": [
    {
     "name": "stderr",
     "output_type": "stream",
     "text": [
      "63493it [03:58, 266.33it/s]"
     ]
    },
    {
     "name": "stdout",
     "output_type": "stream",
     "text": [
      "To not mingle with benchmark datasets, we skipped 2 items and 1355104 relations\n"
     ]
    },
    {
     "name": "stderr",
     "output_type": "stream",
     "text": [
      "\n"
     ]
    }
   ],
   "source": [
    "from tqdm import tqdm\n",
    "\n",
    "save_path = 'zero_rel_all.jsonl'\n",
    "final_save_path = 'zero_rel_all_diff.jsonl'\n",
    "skipped_items = 0\n",
    "skipped_relations = 0\n",
    "with open(save_path, 'r') as fr, open(final_save_path, 'w') as fw:\n",
    "    for line in tqdm(fr):\n",
    "        item = json.loads(line)\n",
    "        relations = item['relations']\n",
    "        new_relations = []\n",
    "        for relation in relations:\n",
    "            rel_text = relation['relation_text']\n",
    "            if rel_text not in intersection_labels:\n",
    "                new_relations.append(relation)\n",
    "            else:\n",
    "                skipped_relations += 1\n",
    "        \n",
    "        item['relations'] = new_relations\n",
    "\n",
    "        # Write the updated item to the new file\n",
    "        if len(new_relations) > 0:\n",
    "            fw.write(json.dumps(item) + '\\n')\n",
    "        else:\n",
    "            skipped_items += 1\n",
    "\n",
    "print(f'To not mingle with benchmark datasets, we skipped {skipped_items} items and {skipped_relations} relations')"
   ]
  },
  {
   "cell_type": "code",
   "execution_count": 8,
   "metadata": {},
   "outputs": [
    {
     "name": "stderr",
     "output_type": "stream",
     "text": [
      "160it [00:00, 680.69it/s]"
     ]
    },
    {
     "name": "stderr",
     "output_type": "stream",
     "text": [
      "63415it [02:21, 774.49it/s]"
     ]
    },
    {
     "name": "stdout",
     "output_type": "stream",
     "text": [
      "set()\n"
     ]
    }
   ],
   "source": [
    "import json\n",
    "import tqdm\n",
    "\n",
    "pbar = tqdm.tqdm()\n",
    "with open('zero_rel_all_diff.jsonl', 'r') as f:\n",
    "    zero_rel_wiki_diff = (json.loads(line) for line in f)\n",
    "\n",
    "    zero_rel_type_counts = {}\n",
    "    for item in zero_rel_wiki_diff:\n",
    "        for relation in item['relations']:\n",
    "            relation_text = relation['relation_text']\n",
    "            zero_rel_type_counts[relation_text] = zero_rel_type_counts.get(relation_text, 0) + 1\n",
    "        pbar.update(1)\n",
    "\n",
    "with open('wiki_zsl_all.jsonl', 'r') as f:\n",
    "    wiki_zsl_all = [json.loads(line) for line in f]\n",
    "\n",
    "wiki_zsl_rel_type_counts = {}\n",
    "for item in wiki_zsl_all:\n",
    "    for relation in item['relations']:\n",
    "        relation_text = relation['relation_text']\n",
    "        wiki_zsl_rel_type_counts[relation_text] = wiki_zsl_rel_type_counts.get(relation_text, 0) + 1\n",
    "\n",
    "intersection_labels = set(zero_rel_type_counts.keys()).intersection(wiki_zsl_rel_type_counts.keys())\n",
    "print(intersection_labels)"
   ]
  },
  {
   "cell_type": "code",
   "execution_count": null,
   "metadata": {},
   "outputs": [],
   "source": []
  }
 ],
 "metadata": {
  "kernelspec": {
   "display_name": "glirel",
   "language": "python",
   "name": "python3"
  },
  "language_info": {
   "codemirror_mode": {
    "name": "ipython",
    "version": 3
   },
   "file_extension": ".py",
   "mimetype": "text/x-python",
   "name": "python",
   "nbconvert_exporter": "python",
   "pygments_lexer": "ipython3",
   "version": "3.10.14"
  }
 },
 "nbformat": 4,
 "nbformat_minor": 2
}
