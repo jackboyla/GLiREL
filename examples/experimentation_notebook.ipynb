{
 "cells": [
  {
   "cell_type": "code",
   "execution_count": 3,
   "metadata": {},
   "outputs": [],
   "source": [
    "import pytest\n",
    "import torch\n",
    "\n",
    "from typing import List\n",
    "\n",
    "from flair.data import Sentence\n",
    "\n",
    "def flair_sentence(tokens):\n",
    "\n",
    "    sentences = [Sentence(i) for i in tokens]\n",
    "\n",
    "    return sentences"
   ]
  },
  {
   "cell_type": "code",
   "execution_count": 4,
   "metadata": {},
   "outputs": [
    {
     "data": {
      "text/plain": [
       "[Sentence[9]: \"The quick brown fox jumps over the lazy dog\"]"
      ]
     },
     "execution_count": 4,
     "metadata": {},
     "output_type": "execute_result"
    }
   ],
   "source": [
    "flair_sentence([['The', 'quick', 'brown', 'fox', 'jumps', 'over', 'the', 'lazy', 'dog']])"
   ]
  },
  {
   "cell_type": "code",
   "execution_count": 6,
   "metadata": {},
   "outputs": [
    {
     "name": "stderr",
     "output_type": "stream",
     "text": [
      "/Users/jesusherrera/miniconda3/envs/glirel/lib/python3.10/site-packages/transformers/convert_slow_tokenizer.py:561: UserWarning: The sentencepiece tokenizer that you are converting to a fast tokenizer uses the byte fallback option which is not implemented in the fast tokenizers. In practice this means that the fast version of the tokenizer can produce unknown tokens whereas the sentencepiece version would have converted these unknown tokens into a sequence of byte tokens matching the original piece of text.\n",
      "  warnings.warn(\n"
     ]
    }
   ],
   "source": [
    "from glirel.modules.token_rep import TokenRepLayer\n",
    "\n",
    "token_rep = TokenRepLayer(\n",
    "        model_name=\"microsoft/deberta-v3-small\",\n",
    "        fine_tune=True,\n",
    "        subtoken_pooling=\"first\",\n",
    "        hidden_size=768,\n",
    "        add_tokens=[],\n",
    "    )"
   ]
  },
  {
   "cell_type": "code",
   "execution_count": 9,
   "metadata": {},
   "outputs": [
    {
     "name": "stderr",
     "output_type": "stream",
     "text": [
      "/Users/jesusherrera/miniconda3/envs/glirel/lib/python3.10/site-packages/transformers/convert_slow_tokenizer.py:561: UserWarning: The sentencepiece tokenizer that you are converting to a fast tokenizer uses the byte fallback option which is not implemented in the fast tokenizers. In practice this means that the fast version of the tokenizer can produce unknown tokens whereas the sentencepiece version would have converted these unknown tokens into a sequence of byte tokens matching the original piece of text.\n",
      "  warnings.warn(\n"
     ]
    }
   ],
   "source": [
    "token_rep = TokenRepLayer(\n",
    "        model_name=\"microsoft/deberta-v3-small\",\n",
    "        fine_tune=True,\n",
    "        subtoken_pooling=\"first\",\n",
    "        hidden_size=768,\n",
    "        add_tokens=[\"[REL]\", \"[SEP]\"],\n",
    "    )"
   ]
  },
  {
   "cell_type": "code",
   "execution_count": 10,
   "metadata": {},
   "outputs": [],
   "source": [
    "tokens_batch = [\n",
    "    [\"Hello\", \"world\"],                 \n",
    "    [\"This\", \"is\", \"a\", \"test\"],        \n",
    "]\n",
    "lengths = torch.tensor([len(seq) for seq in tokens_batch])  \n",
    "\n",
    "output = token_rep(tokens_batch, lengths)"
   ]
  },
  {
   "cell_type": "code",
   "execution_count": 8,
   "metadata": {},
   "outputs": [
    {
     "data": {
      "text/plain": [
       "{'embeddings': tensor([[[-0.8532, -0.1729, -0.1481,  ...,  0.2372,  0.0825, -0.3372],\n",
       "          [ 1.0145, -0.7746, -0.5060,  ..., -0.0447, -0.0466, -0.3296],\n",
       "          [ 0.0000,  0.0000,  0.0000,  ...,  0.0000,  0.0000,  0.0000],\n",
       "          [ 0.0000,  0.0000,  0.0000,  ...,  0.0000,  0.0000,  0.0000]],\n",
       " \n",
       "         [[-1.8800, -0.1707, -0.3937,  ...,  0.0134,  0.2015,  0.1256],\n",
       "          [-1.9091, -0.0522,  0.2174,  ..., -0.0082,  0.3590,  0.0646],\n",
       "          [-0.1139,  0.1377,  0.2996,  ...,  0.1373,  0.6843,  0.0982],\n",
       "          [ 0.6009, -0.5112, -0.0265,  ...,  0.5871,  0.5133, -0.2278]]]),\n",
       " 'mask': tensor([[1, 1, 0, 0],\n",
       "         [1, 1, 1, 1]])}"
      ]
     },
     "execution_count": 8,
     "metadata": {},
     "output_type": "execute_result"
    }
   ],
   "source": [
    "output"
   ]
  }
 ],
 "metadata": {
  "kernelspec": {
   "display_name": "glirel",
   "language": "python",
   "name": "python3"
  },
  "language_info": {
   "codemirror_mode": {
    "name": "ipython",
    "version": 3
   },
   "file_extension": ".py",
   "mimetype": "text/x-python",
   "name": "python",
   "nbconvert_exporter": "python",
   "pygments_lexer": "ipython3",
   "version": "3.10.16"
  }
 },
 "nbformat": 4,
 "nbformat_minor": 2
}
